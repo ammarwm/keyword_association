{
 "cells": [
  {
   "cell_type": "markdown",
   "metadata": {},
   "source": [
    "Task name: Keyword association\n",
    "\n",
    "\n",
    "Context: When artists upload artworks to Redbubble, they often include keywords to help users find their work \n",
    "    (referred to as work 'tags'). Artists can tag their work using any words they think are relevant. When users search\n",
    "    for artwork, their search queries are matched against these tags. As artists have discretion over the use of these\n",
    "    keywords, it is useful to be able to \n",
    "a) suggest additional keywords to the artist, based on words that have already been used; and\n",
    "b) identify additional (relevant) artworks for each user search.\n",
    "\n",
    "Data: The data for this task are in csv format and accessible from these links: \n",
    "* Artist tags: csv of tags assigned by artists for an artwork ( ~100,000 rows)\n",
    "* User search keywords: tsv of keywords people searched for in a visit ( ~921,773 rows)\n",
    "\n",
    "Objective: Using the dataset provided, identify relationships between keywords that could be used to suggest\n",
    "    keywords or works,as described in the context section above.\n",
    "\n",
    "Other information:\n",
    "We are not expecting you to achieve a 'final' answer as part of this exercise. Rather we are interested in the way that you approach this task, and how you communicate your approach to us. \n",
    "Accordingly, you may use any analytical technique that you think is appropriate, but you should explain:\n",
    " - why you have chosen the technique(s) you have chosen\n",
    " - how the technique(s) you use work (explain to a non-technical audience)\n",
    " - any data cleaning/processing undertaken as part of your approach.\n",
    "Please present your explanations and solution in a word document no longer than two pages.\n",
    "You may use any programming language to undertake this analysis, but should include program files/scripts that replicat\n",
    "e the analysis."
   ]
  },
  {
   "cell_type": "markdown",
   "metadata": {},
   "source": [
    "Introduction:\n",
    "\n",
    "This task is more related to 'Tag Recommendation'. There is a number of published research work in this\n",
    "topic. In this note, a proof of concept is presented. \n",
    "\n",
    "The senario of usage is that when an artist provides her tag-list, the recommender will suggest a number of candidate tags for each individual tag. The candidate tags are ranked according to a score computed based on a certain formula.  We assume that a tag-list is a list of tags seperated by comma.  \n",
    "\n",
    "Implementation details:\n",
    "\n",
    "The indexer:\n",
    "An important module of the system is the indexer. The data (user_keywords and the tag_sets) are indexed to speed up the lookup of a keyword or a tag. For the tag_set index, the key is an individual tag and the value is a list of tag-lists that contains that tag. The index uses the position of the tag-list in the data as an Id. A python implementation of the indexer is given in the function (indexer).\n",
    "\n",
    "\n",
    "Tag Recommender:\n",
    "The tag recommender is the algorithm that suggests candidate tags to the artist. In its basic implementation the tag recommender consists mainly of two modules, tag co-occurance module and tags aggregation and ranking module. \n",
    "\n",
    "Tag co-occurance:\n",
    "The tag co-occurance module finds the the relationship between every pair of artist tags. This relationship is quantified by computing the co-occurance between two tags. It is defined by the ratio of number of tag-lists that have both tags over the number of tag-lists that have any of the both tags. The function (compute_co_occurance) implements this definision.\n",
    "\n",
    "Tag Aggregation and Ranking:\n",
    "The tag aggregation module, takes a query tag-list and returns all the tags that have co_occurance coffecient more than zero.  To evaluate the importance of the tag, the tag is scored according to a certain formula. For this implementation, the score of the tag is computed based on the popularity (frequency) of the tag amoung user keywords.\n",
    "\n",
    "Notes:\n",
    "This implementation is for proof of concept and not yet production ready. The concept can be further improved in different aspects: \n",
    "a - A better formula for the tag score.\n",
    "b - To get more information about the provided tag-list for example, the tag-list is a painting, a t-shirt, a cup ...\n",
    "c - Reducing the time of computation, by storing the result of computation.\n",
    "d - Better cleansing and filtering of the data\n",
    "\n",
    "I have chosen the above techniques based on my experience in similar problems. The above implementation is modular with independent functionality. "
   ]
  },
  {
   "cell_type": "code",
   "execution_count": 1,
   "metadata": {
    "collapsed": true
   },
   "outputs": [],
   "source": [
    "# Import some ML libraries stuff\n",
    "from sklearn.feature_extraction.text import CountVectorizer\n",
    "from sklearn.preprocessing import Normalizer\n",
    "from collections import defaultdict\n",
    "from sklearn import metrics\n",
    "import pandas as pd\n",
    "import numpy\n",
    "# Suppress some warnings\n",
    "import warnings\n",
    "warnings.filterwarnings(\"ignore\", category=DeprecationWarning, module=\"pandas\", lineno=570)"
   ]
  },
  {
   "cell_type": "code",
   "execution_count": 2,
   "metadata": {
    "collapsed": false
   },
   "outputs": [],
   "source": [
    "#Load the data, drop empty lines\n",
    "tags_df = pd.read_csv(r'.\\tag_sets.csv', header=None, names=['keywords']).dropna() \n",
    "keywords_df = pd.read_csv(r'.\\user_keywords.tsv', sep='\\t').dropna() "
   ]
  },
  {
   "cell_type": "code",
   "execution_count": 3,
   "metadata": {
    "collapsed": true
   },
   "outputs": [],
   "source": [
    "#Tokenizer function that splits at , \n",
    "#We need to consider to split at other world boundries\n",
    "def tokenizer(text):\n",
    "    return text.split(',')   "
   ]
  },
  {
   "cell_type": "code",
   "execution_count": 4,
   "metadata": {
    "collapsed": true
   },
   "outputs": [],
   "source": [
    "#Indexer: implementation of index generator\n",
    "def indexer( data ):\n",
    "    assert isinstance(data, list), \"Expected list input\"\n",
    "    index = defaultdict(set)\n",
    "    for i,d in enumerate(data):\n",
    "        for t in tokenizer(d):\n",
    "            index[t].add(i)\n",
    "    return index"
   ]
  },
  {
   "cell_type": "code",
   "execution_count": 5,
   "metadata": {
    "collapsed": true
   },
   "outputs": [],
   "source": [
    "#Create indeces for the tags and the keywords\n",
    "\n",
    "#Create artist tags\n",
    "tag_index = indexer(tags_df['keywords'].tolist())\n",
    "\n",
    "#Create user keywords index\n",
    "keyword_index = indexer( keywords_df['keywords'].tolist() )"
   ]
  },
  {
   "cell_type": "code",
   "execution_count": 6,
   "metadata": {
    "collapsed": false
   },
   "outputs": [
    {
     "name": "stdout",
     "output_type": "stream",
     "text": [
      "The 10 most frequent tags\n"
     ]
    },
    {
     "data": {
      "text/plain": [
       "[(u'funny', 12445),\n",
       " (u'cool', 8747),\n",
       " (u'geek', 8627),\n",
       " (u'cute', 6863),\n",
       " (u'music', 6807),\n",
       " (u'nerd', 6544),\n",
       " (u'anime', 5996),\n",
       " (u'retro', 5921),\n",
       " (u'love', 4575),\n",
       " (u'cartoon', 4519)]"
      ]
     },
     "execution_count": 6,
     "metadata": {},
     "output_type": "execute_result"
    }
   ],
   "source": [
    "#Create count words vectorizer for the artist tags\n",
    "count_vect = CountVectorizer( tokenizer=lambda t:tokenizer(t), stop_words='english' )\n",
    "tag_counts = count_vect.fit_transform( tags_df['keywords'].tolist() ) \n",
    "\n",
    "#The most frequent tags used by artists\n",
    "term_count = zip(count_vect.get_feature_names(), numpy.asarray(tag_counts.sum(axis=0)).ravel())\n",
    "term_count = sorted(term_count,key=lambda x:x[1], reverse=True)\n",
    "print ('The 10 most frequent tags')\n",
    "term_count[:10]"
   ]
  },
  {
   "cell_type": "code",
   "execution_count": 7,
   "metadata": {
    "collapsed": true
   },
   "outputs": [],
   "source": [
    "#Compute the co-occurance between two tags based on the index \n",
    "#The cofficient is defined as:\n",
    "# co_occurance_cof = no. of artist tag-list which have both tags (intersection)/ no. of artist tag-list which \\\n",
    "#have any of the two tags (union)\n",
    "\n",
    "def compute_co_occurance(tag1, tag2, index):\n",
    "    tag_list1 = index.get(tag1)\n",
    "    tag_list2 = index.get(tag2)\n",
    "    if not all([tag_list1,tag_list2]):\n",
    "        return 0\n",
    "    tag_list_inter = set.intersection(tag_list1, tag_list2)\n",
    "    tag_list_union = set.union(tag_list1, tag_list2)\n",
    "    return len(tag_list_inter)/float(len(tag_list_union))"
   ]
  },
  {
   "cell_type": "code",
   "execution_count": 8,
   "metadata": {
    "collapsed": false
   },
   "outputs": [],
   "source": [
    "#Aggregate the candidates, compute the co_occurance coffecient between enquiry artist tag and all the other tags in the\n",
    "#index\n",
    "#Return the tags of co_occurance value of more than 0\n",
    "def aggregate(artist_tag, tag_index):\n",
    "    candidates = {}\n",
    "    for tag in tag_index.iterkeys():\n",
    "        cof = compute_co_occurance(artist_tag, tag, tag_index)\n",
    "        if tag != artist_tag and cof != 0.:\n",
    "            candidates.update({tag:{'co_occ_cof':cof}})\n",
    "    return candidates"
   ]
  },
  {
   "cell_type": "code",
   "execution_count": 9,
   "metadata": {
    "collapsed": true
   },
   "outputs": [],
   "source": [
    "#Ranking the candidate tags. The tag is given a score based on its popularity amoung the users\n",
    "def score_candidates(candidates, keyword_index):\n",
    "    no_keywords = float( len(keyword_index.keys()) )\n",
    "    for c in candidates.iterkeys():\n",
    "        keyword_count = float( len( keyword_index.get(c,[]) ))\n",
    "        candidates[c].update( {'user_count':keyword_count*1000./no_keywords} )\n",
    "    return candidates"
   ]
  },
  {
   "cell_type": "code",
   "execution_count": 10,
   "metadata": {
    "collapsed": false
   },
   "outputs": [],
   "source": [
    "#Function to find candidate tags for artist tag-list\n",
    "def find_candidates(artist_tag_list, tag_index):\n",
    "    assert isinstance(artist_tag_list, str), 'Expected string input'\n",
    "    candidates = {}\n",
    "    threshold = 0.1\n",
    "    artist_tag_list_ = tokenizer(artist_tag_list)\n",
    "    for tag in artist_tag_list:\n",
    "        candidates.update( aggregate(tag, tag_index) )\n",
    "    candidates = {k:v for k,v in candidates.iteritems() if v['co_occ_cof'] >= threshold}\n",
    "    return candidates"
   ]
  },
  {
   "cell_type": "code",
   "execution_count": 12,
   "metadata": {
    "collapsed": false
   },
   "outputs": [],
   "source": [
    "example = \"rocket,uniform,villain,grunt,team rocket,team rocket grunt,pokemon\"\n",
    "\n",
    "candidates_ = find_candidates(example, tag_index)\n",
    "scored_candidates = score_candidates(candidates_, keyword_index)\n",
    "candidates = sorted(scored_candidates.items(),key=lambda x:(x[1]['co_occ_cof'],x[1]['user_count']))"
   ]
  },
  {
   "cell_type": "code",
   "execution_count": 14,
   "metadata": {
    "collapsed": false
   },
   "outputs": [
    {
     "data": {
      "text/plain": [
       "[('whitney', {'co_occ_cof': 0.1, 'user_count': 0.01427170762408893}),\n",
       " ('timberland', {'co_occ_cof': 0.1, 'user_count': 0.021407561436133395}),\n",
       " ('platoon', {'co_occ_cof': 0.1, 'user_count': 0.04424229363467568}),\n",
       " ('ciara', {'co_occ_cof': 0.1, 'user_count': 0.05851400125876461}),\n",
       " ('grand theft auto',\n",
       "  {'co_occ_cof': 0.10050251256281408, 'user_count': 0.7050223566299931}),\n",
       " ('j hope',\n",
       "  {'co_occ_cof': 0.10101010101010101, 'user_count': 0.01427170762408893}),\n",
       " ('blige', {'co_occ_cof': 0.1111111111111111, 'user_count': 0.0}),\n",
       " ('rap monster',\n",
       "  {'co_occ_cof': 0.11475409836065574, 'user_count': 0.05851400125876461}),\n",
       " ('taehyung',\n",
       "  {'co_occ_cof': 0.11498257839721254, 'user_count': 0.05280531820912904}),\n",
       " ('rockstar',\n",
       "  {'co_occ_cof': 0.11764705882352941, 'user_count': 0.11845517327993811}),\n",
       " ('jin',\n",
       "  {'co_occ_cof': 0.11858974358974358, 'user_count': 0.027116244485768968}),\n",
       " ('wiiu',\n",
       "  {'co_occ_cof': 0.11940298507462686, 'user_count': 0.0042815122872266785}),\n",
       " ('bangtan boys',\n",
       "  {'co_occ_cof': 0.12084592145015106, 'user_count': 0.4095980088113523}),\n",
       " ('jungkook',\n",
       "  {'co_occ_cof': 0.12244897959183673, 'user_count': 0.09704761184380473}),\n",
       " ('j', {'co_occ_cof': 0.12380952380952381, 'user_count': 0.13415405166643593}),\n",
       " ('suga',\n",
       "  {'co_occ_cof': 0.12956810631229235, 'user_count': 0.0413879521098579}),\n",
       " ('jimin', {'co_occ_cof': 0.13, 'user_count': 0.07849439193248911}),\n",
       " ('grand',\n",
       "  {'co_occ_cof': 0.14245014245014245, 'user_count': 0.002854341524817786}),\n",
       " ('5', {'co_occ_cof': 0.1449814126394052, 'user_count': 0.11702800251752922}),\n",
       " ('theft',\n",
       "  {'co_occ_cof': 0.15644171779141106, 'user_count': 0.002854341524817786}),\n",
       " ('tuturuuu', {'co_occ_cof': 1.0, 'user_count': 0.0})]"
      ]
     },
     "execution_count": 14,
     "metadata": {},
     "output_type": "execute_result"
    }
   ],
   "source": [
    "candidates"
   ]
  },
  {
   "cell_type": "code",
   "execution_count": 26,
   "metadata": {
    "collapsed": false
   },
   "outputs": [
    {
     "data": {
      "text/plain": [
       "[('whitney', {'co_occ_cof': 0.1, 'user_count': 1.427170762408893e-05}),\n",
       " ('timberland', {'co_occ_cof': 0.1, 'user_count': 2.1407561436133393e-05}),\n",
       " ('platoon', {'co_occ_cof': 0.1, 'user_count': 4.4242293634675684e-05}),\n",
       " ('ciara', {'co_occ_cof': 0.1, 'user_count': 5.851400125876461e-05}),\n",
       " ('grand theft auto',\n",
       "  {'co_occ_cof': 0.10050251256281408, 'user_count': 0.0007050223566299931}),\n",
       " ('j hope',\n",
       "  {'co_occ_cof': 0.10101010101010101, 'user_count': 1.427170762408893e-05}),\n",
       " ('blige', {'co_occ_cof': 0.1111111111111111, 'user_count': 0.0}),\n",
       " ('rap monster',\n",
       "  {'co_occ_cof': 0.11475409836065574, 'user_count': 5.851400125876461e-05}),\n",
       " ('taehyung',\n",
       "  {'co_occ_cof': 0.11498257839721254, 'user_count': 5.280531820912904e-05}),\n",
       " ('rockstar',\n",
       "  {'co_occ_cof': 0.11764705882352941, 'user_count': 0.00011845517327993812}),\n",
       " ('jin',\n",
       "  {'co_occ_cof': 0.11858974358974358, 'user_count': 2.7116244485768967e-05}),\n",
       " ('wiiu',\n",
       "  {'co_occ_cof': 0.11940298507462686, 'user_count': 4.281512287226679e-06}),\n",
       " ('bangtan boys',\n",
       "  {'co_occ_cof': 0.12084592145015106, 'user_count': 0.0004095980088113523}),\n",
       " ('jungkook',\n",
       "  {'co_occ_cof': 0.12244897959183673, 'user_count': 9.704761184380473e-05}),\n",
       " ('j',\n",
       "  {'co_occ_cof': 0.12380952380952381, 'user_count': 0.00013415405166643593}),\n",
       " ('suga',\n",
       "  {'co_occ_cof': 0.12956810631229235, 'user_count': 4.1387952109857896e-05}),\n",
       " ('jimin', {'co_occ_cof': 0.13, 'user_count': 7.849439193248912e-05}),\n",
       " ('grand',\n",
       "  {'co_occ_cof': 0.14245014245014245, 'user_count': 2.854341524817786e-06}),\n",
       " ('5',\n",
       "  {'co_occ_cof': 0.1449814126394052, 'user_count': 0.00011702800251752923}),\n",
       " ('theft',\n",
       "  {'co_occ_cof': 0.15644171779141106, 'user_count': 2.854341524817786e-06}),\n",
       " ('tuturuuu', {'co_occ_cof': 1.0, 'user_count': 0.0})]"
      ]
     },
     "execution_count": 26,
     "metadata": {},
     "output_type": "execute_result"
    }
   ],
   "source": [
    "candidates"
   ]
  },
  {
   "cell_type": "code",
   "execution_count": null,
   "metadata": {
    "collapsed": true
   },
   "outputs": [],
   "source": []
  }
 ],
 "metadata": {
  "kernelspec": {
   "display_name": "Python 2",
   "language": "python",
   "name": "python2"
  },
  "language_info": {
   "codemirror_mode": {
    "name": "ipython",
    "version": 2
   },
   "file_extension": ".py",
   "mimetype": "text/x-python",
   "name": "python",
   "nbconvert_exporter": "python",
   "pygments_lexer": "ipython2",
   "version": "2.7.11"
  }
 },
 "nbformat": 4,
 "nbformat_minor": 0
}
