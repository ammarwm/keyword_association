{
 "cells": [
  {
   "cell_type": "markdown",
   "metadata": {},
   "source": [
    "Task name: Keyword association\n",
    "\n",
    "\n",
    "Context: When artists upload artworks to Redbubble, they often include keywords to help users find their work \n",
    "    (referred to as work 'tags'). Artists can tag their work using any words they think are relevant. When users search\n",
    "    for artwork, their search queries are matched against these tags. As artists have discretion over the use of these\n",
    "    keywords, it is useful to be able to \n",
    "a) suggest additional keywords to the artist, based on words that have already been used; and\n",
    "b) identify additional (relevant) artworks for each user search.\n",
    "\n",
    "Data: The data for this task are in csv format and accessible from these links: \n",
    "* Artist tags: csv of tags assigned by artists for an artwork ( ~100,000 rows)\n",
    "* User search keywords: tsv of keywords people searched for in a visit ( ~921,773 rows)\n",
    "\n",
    "Objective: Using the dataset provided, identify relationships between keywords that could be used to suggest\n",
    "    keywords or works,as described in the context section above.\n",
    "\n",
    "Other information:\n",
    "We are not expecting you to achieve a 'final' answer as part of this exercise. Rather we are interested in the way that you approach this task, and how you communicate your approach to us. \n",
    "Accordingly, you may use any analytical technique that you think is appropriate, but you should explain:\n",
    " - why you have chosen the technique(s) you have chosen\n",
    " - how the technique(s) you use work (explain to a non-technical audience)\n",
    " - any data cleaning/processing undertaken as part of your approach.\n",
    "Please present your explanations and solution in a word document no longer than two pages.\n",
    "You may use any programming language to undertake this analysis, but should include program files/scripts that replicat\n",
    "e the analysis."
   ]
  },
  {
   "cell_type": "markdown",
   "metadata": {},
   "source": [
    "Introduction:\n",
    "\n",
    "This task is more related to 'Tag Recommendation'. There is a number of published research work in this\n",
    "topic. In this note, a proof of concept is presented. \n",
    "\n",
    "The senario of usage is that when an artist provides her tag-list, the recommender will suggest a number of candidate tags for each individual tag. The candidate tags are ranked according to a score computed based on a certain formula.  We assume that a tag-list is a list of tags seperated by comma.  \n",
    "\n",
    "Implementation details:\n",
    "\n",
    "The indexer:\n",
    "An important module of the system is the indexer. The datasets (user_keywords and the tag_sets) are indexed to speed up the lookup of a keyword or a tag.For the tag_set index, the key is an individual tag and the value is a list of tag-lists that contains that tag. The index uses the position of the tag-list in the data as an Id. A basic implementation of indexer in python is a hash table or dictionary given in the function (indexer). However, there are different ways to implement an index such as using a database.\n",
    "\n",
    "\n",
    "Tag Recommender:\n",
    "The tag recommender suggests candidate tags to the artist. In its basic implementation the tag recommender mainly consists of two modules, tag co-occurance module and tags aggregation and ranking module. \n",
    "\n",
    "Tag co-occurance:\n",
    "The tag co-occurance module finds the the relationship between every pair of artist tags. This relationship is quantified by computing the co-occurance between the two tags. Here, we define co-occurance coffiecient by the ratio of number of tag-lists that have both tags over the number of tag-lists that have any of the two tags. The function (compute_co_occurance) implements this definision.\n",
    "\n",
    "Tag Aggregation and Ranking:\n",
    "The tag aggregation module, takes enquiry tag-list and returns all the tags that have co_occurance coffecient more than zero.  To evaluate the importance of the tag, the tag is scored according to a certain formula. For this implementation, the score of the tag is computed based on the popularity (frequency) of the tag amoung user keywords.\n",
    "\n",
    "Notes:\n",
    "This implementation is for proof of concept and not production ready yet. The concept can be further improved in different aspects: \n",
    "a - A better formula for the tag score.\n",
    "b - To get more information about the provided tag-list for example, the tag-list is a painting, a t-shirt, a cup ...\n",
    "c - Reducing the time of computation, by storing the results of computation rather than recompute it.\n",
    "d - Better cleansing and filtering of the data\n",
    "e - More supportive information (features) can be mined to improve the quality of the returned tags, such as any feedback from the artist.\n",
    "\n",
    "I have chosen the above techniques based on my experience in similar problems and based on a reputed research work related to tag recommendation. "
   ]
  },
  {
   "cell_type": "code",
   "execution_count": 14,
   "metadata": {
    "collapsed": false
   },
   "outputs": [],
   "source": [
    "# Import some ML libraries stuff\n",
    "from sklearn.feature_extraction.text import CountVectorizer\n",
    "from sklearn.preprocessing import Normalizer\n",
    "from collections import defaultdict\n",
    "from sklearn import metrics\n",
    "import pandas as pd\n",
    "import numpy\n",
    "from prettytable import PrettyTable\n",
    "# Suppress some warnings\n",
    "import warnings\n",
    "warnings.filterwarnings(\"ignore\", category=DeprecationWarning, module=\"pandas\", lineno=570)"
   ]
  },
  {
   "cell_type": "code",
   "execution_count": 15,
   "metadata": {
    "collapsed": false
   },
   "outputs": [],
   "source": [
    "#Load the data, drop empty lines\n",
    "tags_df = pd.read_csv(r'.\\tag_sets.csv', header=None, names=['keywords']).dropna() \n",
    "keywords_df = pd.read_csv(r'.\\user_keywords.tsv', sep='\\t').dropna() "
   ]
  },
  {
   "cell_type": "code",
   "execution_count": 16,
   "metadata": {
    "collapsed": true
   },
   "outputs": [],
   "source": [
    "#Tokenizer function that splits at , \n",
    "#We need to consider to split at other world boundries\n",
    "def tokenizer(text):\n",
    "    return text.split(',')   "
   ]
  },
  {
   "cell_type": "code",
   "execution_count": 17,
   "metadata": {
    "collapsed": true
   },
   "outputs": [],
   "source": [
    "#Indexer: A simple implementation of index generator in python\n",
    "#We use the position of the tag-list as an Id\n",
    "def indexer( data ):\n",
    "    assert isinstance(data, list), \"Expected list input\"\n",
    "    index = defaultdict(set)\n",
    "    for i,d in enumerate(data):\n",
    "        for t in tokenizer(d):\n",
    "            index[t].add(i)\n",
    "    return index"
   ]
  },
  {
   "cell_type": "code",
   "execution_count": 18,
   "metadata": {
    "collapsed": true
   },
   "outputs": [],
   "source": [
    "#Create indeces for the tags and the keywords\n",
    "\n",
    "#Create artist tags\n",
    "tag_index = indexer(tags_df['keywords'].tolist())\n",
    "\n",
    "#Create user keywords index\n",
    "keyword_index = indexer( keywords_df['keywords'].tolist() )"
   ]
  },
  {
   "cell_type": "code",
   "execution_count": 19,
   "metadata": {
    "collapsed": false
   },
   "outputs": [
    {
     "name": "stdout",
     "output_type": "stream",
     "text": [
      "The 10 most frequent tags\n"
     ]
    },
    {
     "data": {
      "text/plain": [
       "[(u'funny', 12445),\n",
       " (u'cool', 8747),\n",
       " (u'geek', 8627),\n",
       " (u'cute', 6863),\n",
       " (u'music', 6807),\n",
       " (u'nerd', 6544),\n",
       " (u'anime', 5996),\n",
       " (u'retro', 5921),\n",
       " (u'love', 4575),\n",
       " (u'cartoon', 4519)]"
      ]
     },
     "execution_count": 19,
     "metadata": {},
     "output_type": "execute_result"
    }
   ],
   "source": [
    "#Create count words vectorizer for the artist tags, just for statistics\n",
    "count_vect = CountVectorizer( tokenizer=lambda t:tokenizer(t), stop_words='english' )\n",
    "tag_counts = count_vect.fit_transform( tags_df['keywords'].tolist() ) \n",
    "\n",
    "#The most frequent tags used by artists\n",
    "term_count = zip(count_vect.get_feature_names(), numpy.asarray(tag_counts.sum(axis=0)).ravel())\n",
    "term_count = sorted(term_count,key=lambda x:x[1], reverse=True)\n",
    "print ('The 10 most frequent tags')\n",
    "term_count[:10]"
   ]
  },
  {
   "cell_type": "code",
   "execution_count": 20,
   "metadata": {
    "collapsed": true
   },
   "outputs": [],
   "source": [
    "#Compute the co-occurance between two tags based on the index \n",
    "#The cofficient is defined as:\n",
    "# co_occurance_cof = no. of artist tag-list which have both tags (intersection)/ no. of artist tag-lists\n",
    "#having any of the two tags (union)\n",
    "\n",
    "def compute_co_occurance(tag1, tag2, index):\n",
    "    tag_list1 = index.get(tag1)\n",
    "    tag_list2 = index.get(tag2)\n",
    "    if not all([tag_list1,tag_list2]):\n",
    "        return 0\n",
    "    tag_list_inter = set.intersection(tag_list1, tag_list2)\n",
    "    tag_list_union = set.union(tag_list1, tag_list2)\n",
    "    return len(tag_list_inter)/float(len(tag_list_union))"
   ]
  },
  {
   "cell_type": "code",
   "execution_count": 21,
   "metadata": {
    "collapsed": false
   },
   "outputs": [],
   "source": [
    "#Aggregate the candidates, compute the co_occurance coffecient between enquiry artist tag and all the other tags in the\n",
    "#index. Return the tags of co_occurance value of more than 0\n",
    "def aggregate(artist_tag, tag_index):\n",
    "    candidates = {}\n",
    "    for tag in tag_index.iterkeys():\n",
    "        cof = compute_co_occurance(artist_tag, tag, tag_index)\n",
    "        if tag != artist_tag and cof != 0.:\n",
    "            candidates.update({tag:{'co_occ_cof':cof}})\n",
    "    return candidates"
   ]
  },
  {
   "cell_type": "code",
   "execution_count": 22,
   "metadata": {
    "collapsed": true
   },
   "outputs": [],
   "source": [
    "#Ranking the candidate tags. The tag is given a score based on its popularity amoung the users\n",
    "def score_candidates(candidates, keyword_index):\n",
    "    no_keywords = float( len(keyword_index.keys()) )\n",
    "    for c in candidates.iterkeys():\n",
    "        keyword_count = float( len( keyword_index.get(c,[]) ))\n",
    "        candidates[c].update( {'user_count':keyword_count*1000./no_keywords} )\n",
    "    return candidates"
   ]
  },
  {
   "cell_type": "code",
   "execution_count": 23,
   "metadata": {
    "collapsed": false
   },
   "outputs": [],
   "source": [
    "#To find candidate tags for enquiry artist tag-list\n",
    "#The tags that have an co_occurance coffiecient more that 0.1 is returned\n",
    "def find_candidates(artist_tag_list, tag_index):\n",
    "    assert isinstance(artist_tag_list, str), 'Expected string input'\n",
    "    candidates = {}\n",
    "    threshold = 0.1\n",
    "    artist_tag_list_ = tokenizer(artist_tag_list)\n",
    "    for tag in artist_tag_list:\n",
    "        candidates.update( aggregate(tag, tag_index) )\n",
    "    candidates = {k:v for k,v in candidates.iteritems() if v['co_occ_cof'] >= threshold}\n",
    "    return candidates"
   ]
  },
  {
   "cell_type": "code",
   "execution_count": 32,
   "metadata": {
    "collapsed": false
   },
   "outputs": [],
   "source": [
    "#An example to use the tag recommender system\n",
    "example = \"rocket,uniform,villain,grunt,team rocket,team rocket grunt,pokemon\"\n",
    "\n",
    "#Find the potential candidates to the example\n",
    "candidates_ = find_candidates(example, tag_index)\n",
    "#score the returned candidates based on the popularity of the tags among users\n",
    "scored_candidates = score_candidates(candidates_, keyword_index)\n",
    "#Sort based on the co_occurance coffecient and popability among users\n",
    "candidates = sorted(scored_candidates.items(),key=lambda x:(x[1]['user_count'],x[1]['co_occ_cof']), reverse=True)"
   ]
  },
  {
   "cell_type": "code",
   "execution_count": 33,
   "metadata": {
    "collapsed": false
   },
   "outputs": [
    {
     "name": "stdout",
     "output_type": "stream",
     "text": [
      "+------------------+-----------------------+---------------------+\n",
      "|       Tag        | co_occurance coffient | user keywords count |\n",
      "+------------------+-----------------------+---------------------+\n",
      "| grand theft auto |     0.100502512563    |    0.70502235663    |\n",
      "|   bangtan boys   |     0.12084592145     |    0.409598008811   |\n",
      "|        j         |     0.12380952381     |    0.134154051666   |\n",
      "|     rockstar     |     0.117647058824    |    0.11845517328    |\n",
      "|        5         |     0.144981412639    |    0.117028002518   |\n",
      "|     jungkook     |     0.122448979592    |   0.0970476118438   |\n",
      "|      jimin       |          0.13         |   0.0784943919325   |\n",
      "|   rap monster    |     0.114754098361    |   0.0585140012588   |\n",
      "|      ciara       |          0.1          |   0.0585140012588   |\n",
      "|     taehyung     |     0.114982578397    |   0.0528053182091   |\n",
      "|     platoon      |          0.1          |   0.0442422936347   |\n",
      "|       suga       |     0.129568106312    |   0.0413879521099   |\n",
      "|       jin        |     0.11858974359     |   0.0271162444858   |\n",
      "|    timberland    |          0.1          |   0.0214075614361   |\n",
      "|      j hope      |     0.10101010101     |   0.0142717076241   |\n",
      "|     whitney      |          0.1          |   0.0142717076241   |\n",
      "|       wiiu       |     0.119402985075    |   0.00428151228723  |\n",
      "|      theft       |     0.156441717791    |   0.00285434152482  |\n",
      "|      grand       |     0.14245014245     |   0.00285434152482  |\n",
      "|     tuturuuu     |          1.0          |         0.0         |\n",
      "|      blige       |     0.111111111111    |         0.0         |\n",
      "+------------------+-----------------------+---------------------+\n"
     ]
    }
   ],
   "source": [
    "#Results\n",
    "display = PrettyTable([\"Tag\", \"co_occurance coffient\", \"user keywords count\"])\n",
    "for c in candidates:\n",
    "    display.add_row([c[0], c[1]['co_occ_cof'], c[1]['user_count']])\n",
    "\n",
    "print display"
   ]
  },
  {
   "cell_type": "code",
   "execution_count": null,
   "metadata": {
    "collapsed": true
   },
   "outputs": [],
   "source": []
  }
 ],
 "metadata": {
  "kernelspec": {
   "display_name": "Python 2",
   "language": "python",
   "name": "python2"
  },
  "language_info": {
   "codemirror_mode": {
    "name": "ipython",
    "version": 2
   },
   "file_extension": ".py",
   "mimetype": "text/x-python",
   "name": "python",
   "nbconvert_exporter": "python",
   "pygments_lexer": "ipython2",
   "version": "2.7.11"
  }
 },
 "nbformat": 4,
 "nbformat_minor": 0
}
